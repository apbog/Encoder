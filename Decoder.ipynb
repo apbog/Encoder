{
 "cells": [
  {
   "cell_type": "code",
   "execution_count": 632,
   "metadata": {
    "collapsed": true
   },
   "outputs": [],
   "source": [
    "import random\n",
    "\n",
    "def get_primes(start, stop):\n",
    "    \"\"\"Return a list of prime numbers in ``range(start, stop)``.\"\"\"\n",
    "    if start >= stop:\n",
    "        return []\n",
    "\n",
    "    primes = [2]\n",
    "\n",
    "    for n in range(3, stop + 1, 2):\n",
    "        for p in primes:\n",
    "            if n % p == 0:\n",
    "                break\n",
    "        else:\n",
    "            primes.append(n)\n",
    "\n",
    "    while primes and primes[0] < start:\n",
    "        del primes[0]\n",
    "\n",
    "    return primes\n",
    "\n",
    "def is_prime(a):\n",
    "    x = True \n",
    "    for i in range(2, a):\n",
    "            if x:\n",
    "                if (a%i == 0):\n",
    "                   x = False\n",
    "                else:\n",
    "                   x = True\n",
    "    if x:\n",
    "        return(True)\n",
    "    else:\n",
    "        return(False)\n",
    "def coprime(a,b):\n",
    "    return (a % b != 0)\n"
   ]
  },
  {
   "cell_type": "code",
   "execution_count": 633,
   "metadata": {},
   "outputs": [
    {
     "name": "stdout",
     "output_type": "stream",
     "text": [
      "Введите число #start:=\n",
      "33\n",
      "Введите число #stop:=\n",
      "177\n"
     ]
    }
   ],
   "source": [
    "print(\"Введите число #start:=\")\n",
    "start = int(input())\n",
    "print(\"Введите число #stop:=\")\n",
    "stop = int(input())"
   ]
  },
  {
   "cell_type": "code",
   "execution_count": 634,
   "metadata": {},
   "outputs": [],
   "source": [
    "p = random.choice(get_primes(start,stop))\n",
    "q = random.choice(get_primes(start,stop))\n",
    "#print ('p =', p, 'q =', q)\n",
    "n = p * q\n",
    "fn = (p - 1) * (q - 1)\n",
    "#print ('n =', n,'fn =', fn)\n",
    "a = []\n",
    "for i in range(fn):\n",
    "    if is_prime(i) and coprime(i,fn):\n",
    "        a.append(i)\n",
    "e = random.choice(a)\n",
    "#print ('e =', e)\n",
    "for d in range(fn):\n",
    "    if (d*e) % fn == 1:\n",
    "        break\n",
    "#print ('d =', d)"
   ]
  },
  {
   "cell_type": "code",
   "execution_count": 635,
   "metadata": {},
   "outputs": [
    {
     "name": "stdout",
     "output_type": "stream",
     "text": [
      "Открытый ключ: (1873, 2537)\n",
      "Секретный ключ: (1549, 2537)\n"
     ]
    }
   ],
   "source": [
    "print(\"Открытый ключ: (\"+str(e)+', '+str(n)+')')\n",
    "print(\"Секретный ключ: (\"+str(d)+', '+str(n)+')')"
   ]
  },
  {
   "cell_type": "code",
   "execution_count": 636,
   "metadata": {},
   "outputs": [
    {
     "name": "stdout",
     "output_type": "stream",
     "text": [
      "Введите зашифрованное сообщение:\n",
      " Wsyisaet s   mChaMwah neisrydrs io rhWsuay et   y maHCowa ahuisMpr s;epiah rys  Wr tMyeyNmeo  earuwCwsr ih ;yasrY   hieWCM saeheytr rrom.wirua \n"
     ]
    }
   ],
   "source": [
    "print(\"Введите зашифрованное сообщение:\")\n",
    "t = str(input())"
   ]
  },
  {
   "cell_type": "code",
   "execution_count": 637,
   "metadata": {},
   "outputs": [
    {
     "name": "stdout",
     "output_type": "stream",
     "text": [
      "Введите зашифрованый ключ:\n",
      "1624, 2377, 289, 365, 1448, 1258\n"
     ]
    }
   ],
   "source": [
    "print(\"Введите зашифрованый ключ:\")\n",
    "key = input()\n",
    "key = key.split(',')"
   ]
  },
  {
   "cell_type": "code",
   "execution_count": 638,
   "metadata": {},
   "outputs": [],
   "source": [
    "keyword = ''\n",
    "for i in range(len(key)):\n",
    "    key[i] = int(key[i])**d % n\n",
    "    keyword = keyword + chr(key[i])"
   ]
  },
  {
   "cell_type": "code",
   "execution_count": 639,
   "metadata": {},
   "outputs": [
    {
     "name": "stdout",
     "output_type": "stream",
     "text": [
      "We wish you a Merry Christmas We wish you a Merry Christmas; We wish you a Merry Christmas; We wish you a Merry Christmas and a Happy New Year. \n"
     ]
    }
   ],
   "source": [
    "key = len(keyword)\n",
    "tablesize = len(t) // key + int(len(t) % key > 0)\n",
    "table = [[''] * tablesize for i in range(key)]\n",
    "i = 0\n",
    "for elem in range(tablesize):\n",
    "    for row in range(key):\n",
    "        if (i >= len(t)):\n",
    "            break;\n",
    "        table[row][elem] = t[i]\n",
    "        i = i + 1\n",
    "keysort = list(keyword)\n",
    "for i in range(len(keysort) - 1):\n",
    "    for k in range(len(keysort) - 1):\n",
    "        if (keysort[k] > keysort[k + 1]):\n",
    "            c = keysort[k + 1]\n",
    "            keysort[k + 1] = keysort[k]\n",
    "            keysort[k] = c\n",
    "table1 = [[''] * tablesize for i in range(key)]\n",
    "for i in range(len(keysort)):\n",
    "    table1[keyword.index(keysort[i])] = table[i]\n",
    "ans = ''\n",
    "for row in range(key):\n",
    "    for elem in range(tablesize):\n",
    "        ans = ans + str(table1[row][elem])\n",
    "print(ans)"
   ]
  }
 ],
 "metadata": {
  "kernelspec": {
   "display_name": "Python 3",
   "language": "python",
   "name": "python3"
  },
  "language_info": {
   "codemirror_mode": {
    "name": "ipython",
    "version": 3
   },
   "file_extension": ".py",
   "mimetype": "text/x-python",
   "name": "python",
   "nbconvert_exporter": "python",
   "pygments_lexer": "ipython3",
   "version": "3.6.2"
  }
 },
 "nbformat": 4,
 "nbformat_minor": 2
}
