{
 "cells": [
  {
   "cell_type": "code",
   "execution_count": 28,
   "metadata": {},
   "outputs": [
    {
     "name": "stdout",
     "output_type": "stream",
     "text": [
      "Введите сообщение:\n",
      "We wish you a Merry Christmas We wish you a Merry Christmas; We wish you a Merry Christmas; We wish you a Merry Christmas and a Happy New Year.\n"
     ]
    }
   ],
   "source": [
    "print(\"Введите сообщение:\")\n",
    "s = str(input())"
   ]
  },
  {
   "cell_type": "code",
   "execution_count": 30,
   "metadata": {},
   "outputs": [
    {
     "name": "stdout",
     "output_type": "stream",
     "text": [
      "Введите ключ:\n",
      "binary\n"
     ]
    }
   ],
   "source": [
    "print(\"Введите ключ:\")\n",
    "keyword = str(input())"
   ]
  },
  {
   "cell_type": "code",
   "execution_count": 31,
   "metadata": {},
   "outputs": [
    {
     "name": "stdout",
     "output_type": "stream",
     "text": [
      "Зашифрованное сообщение:\n",
      " Wsyisaet s   mChaMwah neisrydrs io rhWsuay et   y maHCowa ahuisMpr s;epiah rys  Wr tMyeyNmeo  earuwCwsr ih ;yasrY   hieWCM saeheytr rrom.wirua \n"
     ]
    }
   ],
   "source": [
    "key = len(keyword)\n",
    "tablesize = len(s) // key + int(len(s) % key > 0)\n",
    "table = [[' '] * tablesize for i in range(key)]\n",
    "i = 0\n",
    "for row in range(key):\n",
    "    for elem in range(tablesize):\n",
    "        if (i >= len(s)):\n",
    "            break;\n",
    "        table[row][elem] = s[i]\n",
    "        i = i + 1\n",
    "keysort = list(keyword)\n",
    "for i in range(len(keysort) - 1):\n",
    "    for k in range(len(keysort) - 1):\n",
    "        if (keysort[k] > keysort[k + 1]):\n",
    "            c = keysort[k + 1]\n",
    "            keysort[k + 1] = keysort[k]\n",
    "            keysort[k] = c\n",
    "table1 = [[''] * tablesize for i in range(key)]\n",
    "for i in range(len(keysort)):\n",
    "    table1[i] = table[keyword.index(keysort[i])]\n",
    "ans = ''\n",
    "for elem in range(tablesize):\n",
    "    for row in range(key):\n",
    "        ans = ans + str(table1[row][elem])\n",
    "print(\"Зашифрованное сообщение:\")\n",
    "print(ans)"
   ]
  },
  {
   "cell_type": "code",
   "execution_count": 33,
   "metadata": {},
   "outputs": [
    {
     "name": "stdout",
     "output_type": "stream",
     "text": [
      "Введите открытый ключ RSA (Число №1):\n",
      "1873\n",
      "Введите открытый ключ RSA (Число №2):\n",
      "2537\n"
     ]
    }
   ],
   "source": [
    "print(\"Введите открытый ключ RSA (Число №1):\")\n",
    "e = int(input())\n",
    "print(\"Введите открытый ключ RSA (Число №2):\")\n",
    "n = int(input())"
   ]
  },
  {
   "cell_type": "code",
   "execution_count": 34,
   "metadata": {},
   "outputs": [],
   "source": [
    "keyrsa = list(keyword)\n",
    "for i in range(len(keyword)):\n",
    "    keyrsa[i] = ord(keyrsa[i])**e % n"
   ]
  },
  {
   "cell_type": "code",
   "execution_count": 35,
   "metadata": {},
   "outputs": [
    {
     "name": "stdout",
     "output_type": "stream",
     "text": [
      "Зашифрованый ключ:\n",
      "[1624, 2377, 289, 365, 1448, 1258]\n"
     ]
    }
   ],
   "source": [
    "print(\"Зашифрованый ключ:\")\n",
    "print(keyrsa)"
   ]
  }
 ],
 "metadata": {
  "kernelspec": {
   "display_name": "Python 3",
   "language": "python",
   "name": "python3"
  },
  "language_info": {
   "codemirror_mode": {
    "name": "ipython",
    "version": 3
   },
   "file_extension": ".py",
   "mimetype": "text/x-python",
   "name": "python",
   "nbconvert_exporter": "python",
   "pygments_lexer": "ipython3",
   "version": "3.6.2"
  }
 },
 "nbformat": 4,
 "nbformat_minor": 2
}
